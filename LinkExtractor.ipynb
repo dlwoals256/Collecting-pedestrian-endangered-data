{
 "cells": [
  {
   "cell_type": "code",
   "execution_count": 1,
   "id": "464fe643",
   "metadata": {},
   "outputs": [],
   "source": [
    "import pandas as pd"
   ]
  },
  {
   "cell_type": "code",
   "execution_count": 2,
   "id": "f1833dd1",
   "metadata": {},
   "outputs": [],
   "source": [
    "df = pd.read_csv('downloaded_videos/video_metadata.csv')"
   ]
  },
  {
   "cell_type": "code",
   "execution_count": 3,
   "id": "a7ef511c",
   "metadata": {},
   "outputs": [],
   "source": [
    "links = df['url']"
   ]
  },
  {
   "cell_type": "code",
   "execution_count": 4,
   "id": "dbb6081b",
   "metadata": {},
   "outputs": [
    {
     "data": {
      "text/plain": [
       "0     https://www.youtube.com/watch?v=Mzi3XLakZV4\n",
       "1     https://www.youtube.com/watch?v=ZqUN1MuXWUA\n",
       "2     https://www.youtube.com/watch?v=2KBzmWTZgpQ\n",
       "3     https://www.youtube.com/watch?v=bPygGHpjceA\n",
       "4     https://www.youtube.com/watch?v=SCJlyGM3Nzk\n",
       "5     https://www.youtube.com/watch?v=WHsBGZiCXKw\n",
       "6     https://www.youtube.com/watch?v=PcKtcNSw2fQ\n",
       "7     https://www.youtube.com/watch?v=l2eRASxWecI\n",
       "8     https://www.youtube.com/watch?v=7XrUUtvESws\n",
       "9     https://www.youtube.com/watch?v=K5CdPGVXAw4\n",
       "10    https://www.youtube.com/watch?v=5WjJVuYRcSU\n",
       "11    https://www.youtube.com/watch?v=cEDhUO-mRH8\n",
       "12    https://www.youtube.com/watch?v=nFQIgsFPzlk\n",
       "13    https://www.youtube.com/watch?v=tI8mXzEJFfE\n",
       "14    https://www.youtube.com/watch?v=Od-IAx6C-_0\n",
       "15    https://www.youtube.com/watch?v=DgFGNG4-9gA\n",
       "16    https://www.youtube.com/watch?v=pTJsFpEPOKQ\n",
       "17    https://www.youtube.com/watch?v=1Mo9HoC-5Zo\n",
       "18    https://www.youtube.com/watch?v=O_eqn-D3Rbc\n",
       "19    https://www.youtube.com/watch?v=A_duhwlV4MI\n",
       "20    https://www.youtube.com/watch?v=1YbV5tJwT6o\n",
       "21    https://www.youtube.com/watch?v=4hoyzBzKts0\n",
       "22    https://www.youtube.com/watch?v=K-FxlA4KWUM\n",
       "23    https://www.youtube.com/watch?v=UTqcE0bVDng\n",
       "24    https://www.youtube.com/watch?v=RbCUgPdvJb4\n",
       "25    https://www.youtube.com/watch?v=GH-5sw2APq4\n",
       "26    https://www.youtube.com/watch?v=ail7B-5hkDg\n",
       "27    https://www.youtube.com/watch?v=QrMEJw7-31E\n",
       "28    https://www.youtube.com/watch?v=cp_33I9X26E\n",
       "29    https://www.youtube.com/watch?v=KNsMXvYO86s\n",
       "Name: url, dtype: object"
      ]
     },
     "execution_count": 4,
     "metadata": {},
     "output_type": "execute_result"
    }
   ],
   "source": [
    "links"
   ]
  },
  {
   "cell_type": "code",
   "execution_count": null,
   "id": "495af9de",
   "metadata": {},
   "outputs": [],
   "source": []
  }
 ],
 "metadata": {
  "kernelspec": {
   "display_name": "Python 3",
   "language": "python",
   "name": "python3"
  },
  "language_info": {
   "codemirror_mode": {
    "name": "ipython",
    "version": 3
   },
   "file_extension": ".py",
   "mimetype": "text/x-python",
   "name": "python",
   "nbconvert_exporter": "python",
   "pygments_lexer": "ipython3",
   "version": "3.13.3"
  }
 },
 "nbformat": 4,
 "nbformat_minor": 5
}
